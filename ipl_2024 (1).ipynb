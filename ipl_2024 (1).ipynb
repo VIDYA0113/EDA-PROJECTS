{
 "cells": [
  {
   "cell_type": "markdown",
   "id": "dad79220-e091-422f-a6ec-64e0f668ee05",
   "metadata": {},
   "source": [
    "                                        IPL_2024 Analysis"
   ]
  },
  {
   "cell_type": "code",
   "execution_count": 6,
   "id": "b1f18efb-f312-4200-9fdb-9ba60c69168e",
   "metadata": {},
   "outputs": [],
   "source": [
    "import pandas as pd\n",
    "import matplotlib.pyplot as plt\n",
    "import seaborn as sns"
   ]
  },
  {
   "cell_type": "markdown",
   "id": "7cba6c7b-5ff2-4ed0-b953-98fb8097cbe3",
   "metadata": {},
   "source": [
    "1.Extract the data and store it in the variable `df`"
   ]
  },
  {
   "cell_type": "code",
   "execution_count": 9,
   "id": "089a717f-9167-4d46-9aad-a3776d4b6691",
   "metadata": {},
   "outputs": [
    {
     "data": {
      "text/html": [
       "<div>\n",
       "<style scoped>\n",
       "    .dataframe tbody tr th:only-of-type {\n",
       "        vertical-align: middle;\n",
       "    }\n",
       "\n",
       "    .dataframe tbody tr th {\n",
       "        vertical-align: top;\n",
       "    }\n",
       "\n",
       "    .dataframe thead th {\n",
       "        text-align: right;\n",
       "    }\n",
       "</style>\n",
       "<table border=\"1\" class=\"dataframe\">\n",
       "  <thead>\n",
       "    <tr style=\"text-align: right;\">\n",
       "      <th></th>\n",
       "      <th>id</th>\n",
       "      <th>date</th>\n",
       "      <th>team1</th>\n",
       "      <th>team2</th>\n",
       "      <th>toss_winner</th>\n",
       "      <th>decision</th>\n",
       "      <th>first_score</th>\n",
       "      <th>first_wkts</th>\n",
       "      <th>second_score</th>\n",
       "      <th>second_wkts</th>\n",
       "      <th>winner</th>\n",
       "      <th>player_of_the_match</th>\n",
       "      <th>most_runs</th>\n",
       "      <th>most_wkts</th>\n",
       "    </tr>\n",
       "  </thead>\n",
       "  <tbody>\n",
       "    <tr>\n",
       "      <th>0</th>\n",
       "      <td>1</td>\n",
       "      <td>March 22,2024</td>\n",
       "      <td>Banglore</td>\n",
       "      <td>Chennai</td>\n",
       "      <td>Banglore</td>\n",
       "      <td>Bat</td>\n",
       "      <td>173</td>\n",
       "      <td>6</td>\n",
       "      <td>176</td>\n",
       "      <td>4</td>\n",
       "      <td>Chennai</td>\n",
       "      <td>Mustafizur Rahman</td>\n",
       "      <td>Anuj Rawat</td>\n",
       "      <td>Mustafizur Rahman</td>\n",
       "    </tr>\n",
       "    <tr>\n",
       "      <th>1</th>\n",
       "      <td>2</td>\n",
       "      <td>March 23,2024</td>\n",
       "      <td>Delhi</td>\n",
       "      <td>Punjab</td>\n",
       "      <td>Punjab</td>\n",
       "      <td>Field</td>\n",
       "      <td>174</td>\n",
       "      <td>9</td>\n",
       "      <td>177</td>\n",
       "      <td>6</td>\n",
       "      <td>Punjab</td>\n",
       "      <td>Sam Curran</td>\n",
       "      <td>Sam Curran</td>\n",
       "      <td>Kuldeep Yadav</td>\n",
       "    </tr>\n",
       "    <tr>\n",
       "      <th>2</th>\n",
       "      <td>3</td>\n",
       "      <td>March 23,2024</td>\n",
       "      <td>Kolkata</td>\n",
       "      <td>Hyderabad</td>\n",
       "      <td>Hyderabad</td>\n",
       "      <td>Field</td>\n",
       "      <td>208</td>\n",
       "      <td>7</td>\n",
       "      <td>204</td>\n",
       "      <td>7</td>\n",
       "      <td>Kolkata</td>\n",
       "      <td>Andre Russell</td>\n",
       "      <td>Andre Russell</td>\n",
       "      <td>T Natarajan</td>\n",
       "    </tr>\n",
       "    <tr>\n",
       "      <th>3</th>\n",
       "      <td>4</td>\n",
       "      <td>March 24,2024</td>\n",
       "      <td>Rajasthan</td>\n",
       "      <td>Lucknow</td>\n",
       "      <td>Rajasthan</td>\n",
       "      <td>Bat</td>\n",
       "      <td>193</td>\n",
       "      <td>4</td>\n",
       "      <td>173</td>\n",
       "      <td>6</td>\n",
       "      <td>Rajasthan</td>\n",
       "      <td>Sanju Samson</td>\n",
       "      <td>Sanju Samson</td>\n",
       "      <td>Trent Boult</td>\n",
       "    </tr>\n",
       "    <tr>\n",
       "      <th>4</th>\n",
       "      <td>5</td>\n",
       "      <td>March 24,2024</td>\n",
       "      <td>Gujarat</td>\n",
       "      <td>Mumbai</td>\n",
       "      <td>Mumbai</td>\n",
       "      <td>Field</td>\n",
       "      <td>168</td>\n",
       "      <td>6</td>\n",
       "      <td>162</td>\n",
       "      <td>9</td>\n",
       "      <td>Gujarat</td>\n",
       "      <td>Sai Sudharsan</td>\n",
       "      <td>Dewald Brevis</td>\n",
       "      <td>Jasprit Bumrah</td>\n",
       "    </tr>\n",
       "    <tr>\n",
       "      <th>...</th>\n",
       "      <td>...</td>\n",
       "      <td>...</td>\n",
       "      <td>...</td>\n",
       "      <td>...</td>\n",
       "      <td>...</td>\n",
       "      <td>...</td>\n",
       "      <td>...</td>\n",
       "      <td>...</td>\n",
       "      <td>...</td>\n",
       "      <td>...</td>\n",
       "      <td>...</td>\n",
       "      <td>...</td>\n",
       "      <td>...</td>\n",
       "      <td>...</td>\n",
       "    </tr>\n",
       "    <tr>\n",
       "      <th>69</th>\n",
       "      <td>70</td>\n",
       "      <td>May 19,2024</td>\n",
       "      <td>Rajasthan</td>\n",
       "      <td>Kolkata</td>\n",
       "      <td>Kolkata</td>\n",
       "      <td>NaN</td>\n",
       "      <td>0</td>\n",
       "      <td>0</td>\n",
       "      <td>0</td>\n",
       "      <td>0</td>\n",
       "      <td>Abandoned</td>\n",
       "      <td>NaN</td>\n",
       "      <td>NaN</td>\n",
       "      <td>NaN</td>\n",
       "    </tr>\n",
       "    <tr>\n",
       "      <th>70</th>\n",
       "      <td>71</td>\n",
       "      <td>May 21,2024</td>\n",
       "      <td>Hyderabad</td>\n",
       "      <td>Kolkata</td>\n",
       "      <td>Hyderabad</td>\n",
       "      <td>Bat</td>\n",
       "      <td>159</td>\n",
       "      <td>10</td>\n",
       "      <td>164</td>\n",
       "      <td>2</td>\n",
       "      <td>Kolkata</td>\n",
       "      <td>Mitchell Starc</td>\n",
       "      <td>Shreyas Iyer</td>\n",
       "      <td>Mitchell Starc</td>\n",
       "    </tr>\n",
       "    <tr>\n",
       "      <th>71</th>\n",
       "      <td>72</td>\n",
       "      <td>May 22,2024</td>\n",
       "      <td>Banglore</td>\n",
       "      <td>Rajasthan</td>\n",
       "      <td>Rajasthan</td>\n",
       "      <td>Field</td>\n",
       "      <td>172</td>\n",
       "      <td>8</td>\n",
       "      <td>174</td>\n",
       "      <td>6</td>\n",
       "      <td>Rajasthan</td>\n",
       "      <td>Ravichandran Ashwin</td>\n",
       "      <td>Yashasvi Jaiswal</td>\n",
       "      <td>Avesh Khan</td>\n",
       "    </tr>\n",
       "    <tr>\n",
       "      <th>72</th>\n",
       "      <td>73</td>\n",
       "      <td>May 24,2024</td>\n",
       "      <td>Hyderabad</td>\n",
       "      <td>Rajasthan</td>\n",
       "      <td>Rajasthan</td>\n",
       "      <td>Field</td>\n",
       "      <td>175</td>\n",
       "      <td>9</td>\n",
       "      <td>139</td>\n",
       "      <td>7</td>\n",
       "      <td>Hyderabad</td>\n",
       "      <td>Shahbaz Ahmed</td>\n",
       "      <td>Dhruv Jurel</td>\n",
       "      <td>Shahbaz Ahmed</td>\n",
       "    </tr>\n",
       "    <tr>\n",
       "      <th>73</th>\n",
       "      <td>74</td>\n",
       "      <td>May 26,2024</td>\n",
       "      <td>Hyderabad</td>\n",
       "      <td>Kolkata</td>\n",
       "      <td>Hyderabad</td>\n",
       "      <td>Bat</td>\n",
       "      <td>113</td>\n",
       "      <td>10</td>\n",
       "      <td>114</td>\n",
       "      <td>2</td>\n",
       "      <td>Kolkata</td>\n",
       "      <td>Mitchell Starc</td>\n",
       "      <td>Venkatesh Iyer</td>\n",
       "      <td>Andre Russell</td>\n",
       "    </tr>\n",
       "  </tbody>\n",
       "</table>\n",
       "<p>74 rows × 14 columns</p>\n",
       "</div>"
      ],
      "text/plain": [
       "    id           date      team1      team2 toss_winner decision  first_score  \\\n",
       "0    1  March 22,2024   Banglore    Chennai    Banglore      Bat          173   \n",
       "1    2  March 23,2024      Delhi     Punjab      Punjab    Field          174   \n",
       "2    3  March 23,2024    Kolkata  Hyderabad   Hyderabad    Field          208   \n",
       "3    4  March 24,2024  Rajasthan    Lucknow   Rajasthan      Bat          193   \n",
       "4    5  March 24,2024    Gujarat     Mumbai      Mumbai    Field          168   \n",
       "..  ..            ...        ...        ...         ...      ...          ...   \n",
       "69  70    May 19,2024  Rajasthan    Kolkata     Kolkata      NaN            0   \n",
       "70  71    May 21,2024  Hyderabad    Kolkata   Hyderabad      Bat          159   \n",
       "71  72    May 22,2024   Banglore  Rajasthan   Rajasthan    Field          172   \n",
       "72  73    May 24,2024  Hyderabad  Rajasthan   Rajasthan    Field          175   \n",
       "73  74    May 26,2024  Hyderabad    Kolkata   Hyderabad      Bat          113   \n",
       "\n",
       "    first_wkts  second_score  second_wkts     winner  player_of_the_match  \\\n",
       "0            6           176            4    Chennai    Mustafizur Rahman   \n",
       "1            9           177            6     Punjab           Sam Curran   \n",
       "2            7           204            7    Kolkata        Andre Russell   \n",
       "3            4           173            6  Rajasthan         Sanju Samson   \n",
       "4            6           162            9    Gujarat        Sai Sudharsan   \n",
       "..         ...           ...          ...        ...                  ...   \n",
       "69           0             0            0  Abandoned                  NaN   \n",
       "70          10           164            2    Kolkata       Mitchell Starc   \n",
       "71           8           174            6  Rajasthan  Ravichandran Ashwin   \n",
       "72           9           139            7  Hyderabad        Shahbaz Ahmed   \n",
       "73          10           114            2    Kolkata       Mitchell Starc   \n",
       "\n",
       "           most_runs          most_wkts  \n",
       "0         Anuj Rawat  Mustafizur Rahman  \n",
       "1         Sam Curran      Kuldeep Yadav  \n",
       "2      Andre Russell        T Natarajan  \n",
       "3       Sanju Samson        Trent Boult  \n",
       "4      Dewald Brevis     Jasprit Bumrah  \n",
       "..               ...                ...  \n",
       "69               NaN                NaN  \n",
       "70      Shreyas Iyer     Mitchell Starc  \n",
       "71  Yashasvi Jaiswal         Avesh Khan  \n",
       "72      Dhruv Jurel       Shahbaz Ahmed  \n",
       "73    Venkatesh Iyer      Andre Russell  \n",
       "\n",
       "[74 rows x 14 columns]"
      ]
     },
     "execution_count": 9,
     "metadata": {},
     "output_type": "execute_result"
    }
   ],
   "source": [
    "df=pd.read_csv(r\"C:\\Users\\melim\\OneDrive\\Desktop\\eda projects\\archive (2)\\ipl2024 Matches.csv\")\n",
    "df"
   ]
  },
  {
   "cell_type": "markdown",
   "id": "3ea5e51f-716e-46b1-96c6-dd8080efed20",
   "metadata": {},
   "source": [
    "2.Determine the shape of the data set"
   ]
  },
  {
   "cell_type": "code",
   "execution_count": 14,
   "id": "39d14939-150c-4f73-88a1-2462f56d5b3b",
   "metadata": {},
   "outputs": [
    {
     "name": "stdout",
     "output_type": "stream",
     "text": [
      "number of rows of the data :74\n",
      "number of columns of the data :14\n"
     ]
    }
   ],
   "source": [
    "rows,columns=df.shape\n",
    "print(f\"number of rows of the data :{rows}\\nnumber of columns of the data :{columns}\")"
   ]
  },
  {
   "cell_type": "markdown",
   "id": "b0901b28-1a95-47a3-82db-57676efd7cef",
   "metadata": {},
   "source": [
    "3. Display the overview of the structure "
   ]
  },
  {
   "cell_type": "code",
   "execution_count": 11,
   "id": "1e3ed769-47f8-4560-972f-a492c65a2b06",
   "metadata": {},
   "outputs": [
    {
     "name": "stdout",
     "output_type": "stream",
     "text": [
      "<class 'pandas.core.frame.DataFrame'>\n",
      "RangeIndex: 74 entries, 0 to 73\n",
      "Data columns (total 14 columns):\n",
      " #   Column               Non-Null Count  Dtype \n",
      "---  ------               --------------  ----- \n",
      " 0   id                   74 non-null     int64 \n",
      " 1   date                 74 non-null     object\n",
      " 2   team1                74 non-null     object\n",
      " 3   team2                74 non-null     object\n",
      " 4   toss_winner          74 non-null     object\n",
      " 5   decision             71 non-null     object\n",
      " 6   first_score          74 non-null     int64 \n",
      " 7   first_wkts           74 non-null     int64 \n",
      " 8   second_score         74 non-null     int64 \n",
      " 9   second_wkts          74 non-null     int64 \n",
      " 10  winner               74 non-null     object\n",
      " 11  player_of_the_match  71 non-null     object\n",
      " 12  most_runs            71 non-null     object\n",
      " 13  most_wkts            71 non-null     object\n",
      "dtypes: int64(5), object(9)\n",
      "memory usage: 8.2+ KB\n"
     ]
    }
   ],
   "source": [
    "df.info()"
   ]
  },
  {
   "cell_type": "markdown",
   "id": "2965ec1f-0408-409d-90fb-6364523b19fa",
   "metadata": {},
   "source": [
    "4. Display the first 10 records of the data set "
   ]
  },
  {
   "cell_type": "code",
   "execution_count": 18,
   "id": "c915f53a-b96e-470b-89c8-374555ec4567",
   "metadata": {},
   "outputs": [
    {
     "data": {
      "text/html": [
       "<div>\n",
       "<style scoped>\n",
       "    .dataframe tbody tr th:only-of-type {\n",
       "        vertical-align: middle;\n",
       "    }\n",
       "\n",
       "    .dataframe tbody tr th {\n",
       "        vertical-align: top;\n",
       "    }\n",
       "\n",
       "    .dataframe thead th {\n",
       "        text-align: right;\n",
       "    }\n",
       "</style>\n",
       "<table border=\"1\" class=\"dataframe\">\n",
       "  <thead>\n",
       "    <tr style=\"text-align: right;\">\n",
       "      <th></th>\n",
       "      <th>id</th>\n",
       "      <th>date</th>\n",
       "      <th>team1</th>\n",
       "      <th>team2</th>\n",
       "      <th>toss_winner</th>\n",
       "      <th>decision</th>\n",
       "      <th>first_score</th>\n",
       "      <th>first_wkts</th>\n",
       "      <th>second_score</th>\n",
       "      <th>second_wkts</th>\n",
       "      <th>winner</th>\n",
       "      <th>player_of_the_match</th>\n",
       "      <th>most_runs</th>\n",
       "      <th>most_wkts</th>\n",
       "    </tr>\n",
       "  </thead>\n",
       "  <tbody>\n",
       "    <tr>\n",
       "      <th>0</th>\n",
       "      <td>1</td>\n",
       "      <td>March 22,2024</td>\n",
       "      <td>Banglore</td>\n",
       "      <td>Chennai</td>\n",
       "      <td>Banglore</td>\n",
       "      <td>Bat</td>\n",
       "      <td>173</td>\n",
       "      <td>6</td>\n",
       "      <td>176</td>\n",
       "      <td>4</td>\n",
       "      <td>Chennai</td>\n",
       "      <td>Mustafizur Rahman</td>\n",
       "      <td>Anuj Rawat</td>\n",
       "      <td>Mustafizur Rahman</td>\n",
       "    </tr>\n",
       "    <tr>\n",
       "      <th>1</th>\n",
       "      <td>2</td>\n",
       "      <td>March 23,2024</td>\n",
       "      <td>Delhi</td>\n",
       "      <td>Punjab</td>\n",
       "      <td>Punjab</td>\n",
       "      <td>Field</td>\n",
       "      <td>174</td>\n",
       "      <td>9</td>\n",
       "      <td>177</td>\n",
       "      <td>6</td>\n",
       "      <td>Punjab</td>\n",
       "      <td>Sam Curran</td>\n",
       "      <td>Sam Curran</td>\n",
       "      <td>Kuldeep Yadav</td>\n",
       "    </tr>\n",
       "    <tr>\n",
       "      <th>2</th>\n",
       "      <td>3</td>\n",
       "      <td>March 23,2024</td>\n",
       "      <td>Kolkata</td>\n",
       "      <td>Hyderabad</td>\n",
       "      <td>Hyderabad</td>\n",
       "      <td>Field</td>\n",
       "      <td>208</td>\n",
       "      <td>7</td>\n",
       "      <td>204</td>\n",
       "      <td>7</td>\n",
       "      <td>Kolkata</td>\n",
       "      <td>Andre Russell</td>\n",
       "      <td>Andre Russell</td>\n",
       "      <td>T Natarajan</td>\n",
       "    </tr>\n",
       "    <tr>\n",
       "      <th>3</th>\n",
       "      <td>4</td>\n",
       "      <td>March 24,2024</td>\n",
       "      <td>Rajasthan</td>\n",
       "      <td>Lucknow</td>\n",
       "      <td>Rajasthan</td>\n",
       "      <td>Bat</td>\n",
       "      <td>193</td>\n",
       "      <td>4</td>\n",
       "      <td>173</td>\n",
       "      <td>6</td>\n",
       "      <td>Rajasthan</td>\n",
       "      <td>Sanju Samson</td>\n",
       "      <td>Sanju Samson</td>\n",
       "      <td>Trent Boult</td>\n",
       "    </tr>\n",
       "    <tr>\n",
       "      <th>4</th>\n",
       "      <td>5</td>\n",
       "      <td>March 24,2024</td>\n",
       "      <td>Gujarat</td>\n",
       "      <td>Mumbai</td>\n",
       "      <td>Mumbai</td>\n",
       "      <td>Field</td>\n",
       "      <td>168</td>\n",
       "      <td>6</td>\n",
       "      <td>162</td>\n",
       "      <td>9</td>\n",
       "      <td>Gujarat</td>\n",
       "      <td>Sai Sudharsan</td>\n",
       "      <td>Dewald Brevis</td>\n",
       "      <td>Jasprit Bumrah</td>\n",
       "    </tr>\n",
       "  </tbody>\n",
       "</table>\n",
       "</div>"
      ],
      "text/plain": [
       "   id           date      team1      team2 toss_winner decision  first_score  \\\n",
       "0   1  March 22,2024   Banglore    Chennai    Banglore      Bat          173   \n",
       "1   2  March 23,2024      Delhi     Punjab      Punjab    Field          174   \n",
       "2   3  March 23,2024    Kolkata  Hyderabad   Hyderabad    Field          208   \n",
       "3   4  March 24,2024  Rajasthan    Lucknow   Rajasthan      Bat          193   \n",
       "4   5  March 24,2024    Gujarat     Mumbai      Mumbai    Field          168   \n",
       "\n",
       "   first_wkts  second_score  second_wkts     winner player_of_the_match  \\\n",
       "0           6           176            4    Chennai   Mustafizur Rahman   \n",
       "1           9           177            6     Punjab          Sam Curran   \n",
       "2           7           204            7    Kolkata       Andre Russell   \n",
       "3           4           173            6  Rajasthan        Sanju Samson   \n",
       "4           6           162            9    Gujarat       Sai Sudharsan   \n",
       "\n",
       "       most_runs          most_wkts  \n",
       "0     Anuj Rawat  Mustafizur Rahman  \n",
       "1     Sam Curran      Kuldeep Yadav  \n",
       "2  Andre Russell        T Natarajan  \n",
       "3   Sanju Samson        Trent Boult  \n",
       "4  Dewald Brevis     Jasprit Bumrah  "
      ]
     },
     "execution_count": 18,
     "metadata": {},
     "output_type": "execute_result"
    }
   ],
   "source": [
    "df.head()"
   ]
  },
  {
   "cell_type": "markdown",
   "id": "fa4f7060-ced4-4086-b29b-678a0505a8dc",
   "metadata": {},
   "source": [
    " 5.Determine the data types of each column in the dataset. "
   ]
  },
  {
   "cell_type": "code",
   "execution_count": 21,
   "id": "a106c096-00c8-40f6-a294-31e902c6dd80",
   "metadata": {},
   "outputs": [
    {
     "data": {
      "text/plain": [
       "id                      int64\n",
       "date                   object\n",
       "team1                  object\n",
       "team2                  object\n",
       "toss_winner            object\n",
       "decision               object\n",
       "first_score             int64\n",
       "first_wkts              int64\n",
       "second_score            int64\n",
       "second_wkts             int64\n",
       "winner                 object\n",
       "player_of_the_match    object\n",
       "most_runs              object\n",
       "most_wkts              object\n",
       "dtype: object"
      ]
     },
     "execution_count": 21,
     "metadata": {},
     "output_type": "execute_result"
    }
   ],
   "source": [
    "df.dtypes"
   ]
  },
  {
   "cell_type": "markdown",
   "id": "0c558589-9331-4699-9758-6e9898b6003f",
   "metadata": {},
   "source": [
    "6.Check the given data set contains any null values"
   ]
  },
  {
   "cell_type": "code",
   "execution_count": 282,
   "id": "e2ed2e32-1666-4485-86ba-9b6affae0bd0",
   "metadata": {},
   "outputs": [
    {
     "data": {
      "text/plain": [
       "id                     0\n",
       "date                   0\n",
       "team1                  0\n",
       "team2                  0\n",
       "toss_winner            0\n",
       "decision               3\n",
       "first_score            0\n",
       "first_wkts             0\n",
       "second_score           0\n",
       "second_wkts            0\n",
       "winner                 0\n",
       "player_of_the_match    3\n",
       "most_runs              3\n",
       "most_wkts              3\n",
       "dtype: int64"
      ]
     },
     "execution_count": 282,
     "metadata": {},
     "output_type": "execute_result"
    }
   ],
   "source": [
    "df.isnull().sum()"
   ]
  },
  {
   "cell_type": "markdown",
   "id": "9166ff0c-4119-4fc0-a708-3113347b1eea",
   "metadata": {},
   "source": [
    "7. If the data set contains any null values then handle them "
   ]
  },
  {
   "cell_type": "code",
   "execution_count": 25,
   "id": "c9ce2b74-cd32-49f0-9523-a89612ca8d02",
   "metadata": {},
   "outputs": [],
   "source": [
    "df['decision']=df['decision'].fillna(df['decision'].mode()[0])"
   ]
  },
  {
   "cell_type": "code",
   "execution_count": 27,
   "id": "d6da42cb-9006-4c10-b694-37493a6becfc",
   "metadata": {},
   "outputs": [],
   "source": [
    "df['player_of_the_match']=df['player_of_the_match'].fillna(df['player_of_the_match'].mode()[0])"
   ]
  },
  {
   "cell_type": "code",
   "execution_count": 29,
   "id": "f8a3b66b-d3c4-4c06-9d06-37f7a38ff3e2",
   "metadata": {},
   "outputs": [],
   "source": [
    "df['most_runs']=df['most_runs'].fillna(df['most_runs'].mode()[0])"
   ]
  },
  {
   "cell_type": "code",
   "execution_count": 31,
   "id": "b4c36997-5a56-4b48-bd44-a1c1d6b7cb42",
   "metadata": {},
   "outputs": [],
   "source": [
    "df['most_wkts']=df['most_wkts'].fillna(df['most_wkts'].mode()[0])"
   ]
  },
  {
   "cell_type": "code",
   "execution_count": 364,
   "id": "42f225f7-13db-425b-984f-d62de8675ed2",
   "metadata": {},
   "outputs": [
    {
     "data": {
      "text/plain": [
       "id                     0\n",
       "date                   0\n",
       "team1                  0\n",
       "team2                  0\n",
       "toss_winner            0\n",
       "decision               0\n",
       "first_score            0\n",
       "first_wkts             0\n",
       "second_score           0\n",
       "second_wkts            0\n",
       "winner                 0\n",
       "player_of_the_match    0\n",
       "most_runs              0\n",
       "most_wkts              0\n",
       "total_runs             0\n",
       "batted_first           0\n",
       "batted_second          0\n",
       "dtype: int64"
      ]
     },
     "execution_count": 364,
     "metadata": {},
     "output_type": "execute_result"
    }
   ],
   "source": [
    "df.isnull().sum()"
   ]
  },
  {
   "cell_type": "markdown",
   "id": "9ed0a10b-394b-44a4-b511-b36380ecf288",
   "metadata": {},
   "source": [
    "8.Check the given data set contains any duplicate values or not "
   ]
  },
  {
   "cell_type": "code",
   "execution_count": 294,
   "id": "6f783494-7daf-4225-8f9c-2762bfd24eb4",
   "metadata": {},
   "outputs": [
    {
     "data": {
      "text/plain": [
       "0"
      ]
     },
     "execution_count": 294,
     "metadata": {},
     "output_type": "execute_result"
    }
   ],
   "source": [
    "df.duplicated().sum()"
   ]
  },
  {
   "cell_type": "markdown",
   "id": "d253bff5-9ebd-4037-920a-6080fe590920",
   "metadata": {},
   "source": [
    "9.Create a new column for the total runs "
   ]
  },
  {
   "cell_type": "code",
   "execution_count": 296,
   "id": "50f18f68-a57a-433d-ba48-5160e2d45b19",
   "metadata": {},
   "outputs": [
    {
     "data": {
      "text/html": [
       "<div>\n",
       "<style scoped>\n",
       "    .dataframe tbody tr th:only-of-type {\n",
       "        vertical-align: middle;\n",
       "    }\n",
       "\n",
       "    .dataframe tbody tr th {\n",
       "        vertical-align: top;\n",
       "    }\n",
       "\n",
       "    .dataframe thead th {\n",
       "        text-align: right;\n",
       "    }\n",
       "</style>\n",
       "<table border=\"1\" class=\"dataframe\">\n",
       "  <thead>\n",
       "    <tr style=\"text-align: right;\">\n",
       "      <th></th>\n",
       "      <th>id</th>\n",
       "      <th>date</th>\n",
       "      <th>team1</th>\n",
       "      <th>team2</th>\n",
       "      <th>toss_winner</th>\n",
       "      <th>decision</th>\n",
       "      <th>first_score</th>\n",
       "      <th>first_wkts</th>\n",
       "      <th>second_score</th>\n",
       "      <th>second_wkts</th>\n",
       "      <th>winner</th>\n",
       "      <th>player_of_the_match</th>\n",
       "      <th>most_runs</th>\n",
       "      <th>most_wkts</th>\n",
       "      <th>total_runs</th>\n",
       "    </tr>\n",
       "  </thead>\n",
       "  <tbody>\n",
       "    <tr>\n",
       "      <th>0</th>\n",
       "      <td>1</td>\n",
       "      <td>March 22,2024</td>\n",
       "      <td>Banglore</td>\n",
       "      <td>Chennai</td>\n",
       "      <td>Banglore</td>\n",
       "      <td>Bat</td>\n",
       "      <td>173</td>\n",
       "      <td>6</td>\n",
       "      <td>176</td>\n",
       "      <td>4</td>\n",
       "      <td>Chennai</td>\n",
       "      <td>Mustafizur Rahman</td>\n",
       "      <td>Anuj Rawat</td>\n",
       "      <td>Mustafizur Rahman</td>\n",
       "      <td>349</td>\n",
       "    </tr>\n",
       "    <tr>\n",
       "      <th>1</th>\n",
       "      <td>2</td>\n",
       "      <td>March 23,2024</td>\n",
       "      <td>Delhi</td>\n",
       "      <td>Punjab</td>\n",
       "      <td>Punjab</td>\n",
       "      <td>Field</td>\n",
       "      <td>174</td>\n",
       "      <td>9</td>\n",
       "      <td>177</td>\n",
       "      <td>6</td>\n",
       "      <td>Punjab</td>\n",
       "      <td>Sam Curran</td>\n",
       "      <td>Sam Curran</td>\n",
       "      <td>Kuldeep Yadav</td>\n",
       "      <td>351</td>\n",
       "    </tr>\n",
       "    <tr>\n",
       "      <th>2</th>\n",
       "      <td>3</td>\n",
       "      <td>March 23,2024</td>\n",
       "      <td>Kolkata</td>\n",
       "      <td>Hyderabad</td>\n",
       "      <td>Hyderabad</td>\n",
       "      <td>Field</td>\n",
       "      <td>208</td>\n",
       "      <td>7</td>\n",
       "      <td>204</td>\n",
       "      <td>7</td>\n",
       "      <td>Kolkata</td>\n",
       "      <td>Andre Russell</td>\n",
       "      <td>Andre Russell</td>\n",
       "      <td>T Natarajan</td>\n",
       "      <td>412</td>\n",
       "    </tr>\n",
       "    <tr>\n",
       "      <th>3</th>\n",
       "      <td>4</td>\n",
       "      <td>March 24,2024</td>\n",
       "      <td>Rajasthan</td>\n",
       "      <td>Lucknow</td>\n",
       "      <td>Rajasthan</td>\n",
       "      <td>Bat</td>\n",
       "      <td>193</td>\n",
       "      <td>4</td>\n",
       "      <td>173</td>\n",
       "      <td>6</td>\n",
       "      <td>Rajasthan</td>\n",
       "      <td>Sanju Samson</td>\n",
       "      <td>Sanju Samson</td>\n",
       "      <td>Trent Boult</td>\n",
       "      <td>366</td>\n",
       "    </tr>\n",
       "    <tr>\n",
       "      <th>4</th>\n",
       "      <td>5</td>\n",
       "      <td>March 24,2024</td>\n",
       "      <td>Gujarat</td>\n",
       "      <td>Mumbai</td>\n",
       "      <td>Mumbai</td>\n",
       "      <td>Field</td>\n",
       "      <td>168</td>\n",
       "      <td>6</td>\n",
       "      <td>162</td>\n",
       "      <td>9</td>\n",
       "      <td>Gujarat</td>\n",
       "      <td>Sai Sudharsan</td>\n",
       "      <td>Dewald Brevis</td>\n",
       "      <td>Jasprit Bumrah</td>\n",
       "      <td>330</td>\n",
       "    </tr>\n",
       "    <tr>\n",
       "      <th>...</th>\n",
       "      <td>...</td>\n",
       "      <td>...</td>\n",
       "      <td>...</td>\n",
       "      <td>...</td>\n",
       "      <td>...</td>\n",
       "      <td>...</td>\n",
       "      <td>...</td>\n",
       "      <td>...</td>\n",
       "      <td>...</td>\n",
       "      <td>...</td>\n",
       "      <td>...</td>\n",
       "      <td>...</td>\n",
       "      <td>...</td>\n",
       "      <td>...</td>\n",
       "      <td>...</td>\n",
       "    </tr>\n",
       "    <tr>\n",
       "      <th>69</th>\n",
       "      <td>70</td>\n",
       "      <td>May 19,2024</td>\n",
       "      <td>Rajasthan</td>\n",
       "      <td>Kolkata</td>\n",
       "      <td>Kolkata</td>\n",
       "      <td>Field</td>\n",
       "      <td>0</td>\n",
       "      <td>0</td>\n",
       "      <td>0</td>\n",
       "      <td>0</td>\n",
       "      <td>Abandoned</td>\n",
       "      <td>Abhishek Sharma</td>\n",
       "      <td>Virat Kohli</td>\n",
       "      <td>Andre Russell</td>\n",
       "      <td>0</td>\n",
       "    </tr>\n",
       "    <tr>\n",
       "      <th>70</th>\n",
       "      <td>71</td>\n",
       "      <td>May 21,2024</td>\n",
       "      <td>Hyderabad</td>\n",
       "      <td>Kolkata</td>\n",
       "      <td>Hyderabad</td>\n",
       "      <td>Bat</td>\n",
       "      <td>159</td>\n",
       "      <td>10</td>\n",
       "      <td>164</td>\n",
       "      <td>2</td>\n",
       "      <td>Kolkata</td>\n",
       "      <td>Mitchell Starc</td>\n",
       "      <td>Shreyas Iyer</td>\n",
       "      <td>Mitchell Starc</td>\n",
       "      <td>323</td>\n",
       "    </tr>\n",
       "    <tr>\n",
       "      <th>71</th>\n",
       "      <td>72</td>\n",
       "      <td>May 22,2024</td>\n",
       "      <td>Banglore</td>\n",
       "      <td>Rajasthan</td>\n",
       "      <td>Rajasthan</td>\n",
       "      <td>Field</td>\n",
       "      <td>172</td>\n",
       "      <td>8</td>\n",
       "      <td>174</td>\n",
       "      <td>6</td>\n",
       "      <td>Rajasthan</td>\n",
       "      <td>Ravichandran Ashwin</td>\n",
       "      <td>Yashasvi Jaiswal</td>\n",
       "      <td>Avesh Khan</td>\n",
       "      <td>346</td>\n",
       "    </tr>\n",
       "    <tr>\n",
       "      <th>72</th>\n",
       "      <td>73</td>\n",
       "      <td>May 24,2024</td>\n",
       "      <td>Hyderabad</td>\n",
       "      <td>Rajasthan</td>\n",
       "      <td>Rajasthan</td>\n",
       "      <td>Field</td>\n",
       "      <td>175</td>\n",
       "      <td>9</td>\n",
       "      <td>139</td>\n",
       "      <td>7</td>\n",
       "      <td>Hyderabad</td>\n",
       "      <td>Shahbaz Ahmed</td>\n",
       "      <td>Dhruv Jurel</td>\n",
       "      <td>Shahbaz Ahmed</td>\n",
       "      <td>314</td>\n",
       "    </tr>\n",
       "    <tr>\n",
       "      <th>73</th>\n",
       "      <td>74</td>\n",
       "      <td>May 26,2024</td>\n",
       "      <td>Hyderabad</td>\n",
       "      <td>Kolkata</td>\n",
       "      <td>Hyderabad</td>\n",
       "      <td>Bat</td>\n",
       "      <td>113</td>\n",
       "      <td>10</td>\n",
       "      <td>114</td>\n",
       "      <td>2</td>\n",
       "      <td>Kolkata</td>\n",
       "      <td>Mitchell Starc</td>\n",
       "      <td>Venkatesh Iyer</td>\n",
       "      <td>Andre Russell</td>\n",
       "      <td>227</td>\n",
       "    </tr>\n",
       "  </tbody>\n",
       "</table>\n",
       "<p>74 rows × 15 columns</p>\n",
       "</div>"
      ],
      "text/plain": [
       "    id           date      team1      team2 toss_winner decision  first_score  \\\n",
       "0    1  March 22,2024   Banglore    Chennai    Banglore      Bat          173   \n",
       "1    2  March 23,2024      Delhi     Punjab      Punjab    Field          174   \n",
       "2    3  March 23,2024    Kolkata  Hyderabad   Hyderabad    Field          208   \n",
       "3    4  March 24,2024  Rajasthan    Lucknow   Rajasthan      Bat          193   \n",
       "4    5  March 24,2024    Gujarat     Mumbai      Mumbai    Field          168   \n",
       "..  ..            ...        ...        ...         ...      ...          ...   \n",
       "69  70    May 19,2024  Rajasthan    Kolkata     Kolkata    Field            0   \n",
       "70  71    May 21,2024  Hyderabad    Kolkata   Hyderabad      Bat          159   \n",
       "71  72    May 22,2024   Banglore  Rajasthan   Rajasthan    Field          172   \n",
       "72  73    May 24,2024  Hyderabad  Rajasthan   Rajasthan    Field          175   \n",
       "73  74    May 26,2024  Hyderabad    Kolkata   Hyderabad      Bat          113   \n",
       "\n",
       "    first_wkts  second_score  second_wkts     winner  player_of_the_match  \\\n",
       "0            6           176            4    Chennai    Mustafizur Rahman   \n",
       "1            9           177            6     Punjab           Sam Curran   \n",
       "2            7           204            7    Kolkata        Andre Russell   \n",
       "3            4           173            6  Rajasthan         Sanju Samson   \n",
       "4            6           162            9    Gujarat        Sai Sudharsan   \n",
       "..         ...           ...          ...        ...                  ...   \n",
       "69           0             0            0  Abandoned      Abhishek Sharma   \n",
       "70          10           164            2    Kolkata       Mitchell Starc   \n",
       "71           8           174            6  Rajasthan  Ravichandran Ashwin   \n",
       "72           9           139            7  Hyderabad        Shahbaz Ahmed   \n",
       "73          10           114            2    Kolkata       Mitchell Starc   \n",
       "\n",
       "           most_runs          most_wkts  total_runs  \n",
       "0         Anuj Rawat  Mustafizur Rahman         349  \n",
       "1         Sam Curran      Kuldeep Yadav         351  \n",
       "2      Andre Russell        T Natarajan         412  \n",
       "3       Sanju Samson        Trent Boult         366  \n",
       "4      Dewald Brevis     Jasprit Bumrah         330  \n",
       "..               ...                ...         ...  \n",
       "69       Virat Kohli      Andre Russell           0  \n",
       "70      Shreyas Iyer     Mitchell Starc         323  \n",
       "71  Yashasvi Jaiswal         Avesh Khan         346  \n",
       "72      Dhruv Jurel       Shahbaz Ahmed         314  \n",
       "73    Venkatesh Iyer      Andre Russell         227  \n",
       "\n",
       "[74 rows x 15 columns]"
      ]
     },
     "execution_count": 296,
     "metadata": {},
     "output_type": "execute_result"
    }
   ],
   "source": [
    "df['total_runs']=df['first_score']+df['second_score']\n",
    "df"
   ]
  },
  {
   "cell_type": "markdown",
   "id": "4cb82921-07a8-41e5-bc86-a88d4787825a",
   "metadata": {},
   "source": [
    "10. Create new columns to find out who batted first and who batted second for the furture calculations"
   ]
  },
  {
   "cell_type": "code",
   "execution_count": 298,
   "id": "c012e178-6f2f-475e-b3fb-1d88c96ee309",
   "metadata": {},
   "outputs": [
    {
     "data": {
      "text/html": [
       "<div>\n",
       "<style scoped>\n",
       "    .dataframe tbody tr th:only-of-type {\n",
       "        vertical-align: middle;\n",
       "    }\n",
       "\n",
       "    .dataframe tbody tr th {\n",
       "        vertical-align: top;\n",
       "    }\n",
       "\n",
       "    .dataframe thead th {\n",
       "        text-align: right;\n",
       "    }\n",
       "</style>\n",
       "<table border=\"1\" class=\"dataframe\">\n",
       "  <thead>\n",
       "    <tr style=\"text-align: right;\">\n",
       "      <th></th>\n",
       "      <th>id</th>\n",
       "      <th>date</th>\n",
       "      <th>team1</th>\n",
       "      <th>team2</th>\n",
       "      <th>toss_winner</th>\n",
       "      <th>decision</th>\n",
       "      <th>first_score</th>\n",
       "      <th>first_wkts</th>\n",
       "      <th>second_score</th>\n",
       "      <th>second_wkts</th>\n",
       "      <th>winner</th>\n",
       "      <th>player_of_the_match</th>\n",
       "      <th>most_runs</th>\n",
       "      <th>most_wkts</th>\n",
       "      <th>total_runs</th>\n",
       "      <th>batted_first</th>\n",
       "      <th>batted_second</th>\n",
       "    </tr>\n",
       "  </thead>\n",
       "  <tbody>\n",
       "    <tr>\n",
       "      <th>0</th>\n",
       "      <td>1</td>\n",
       "      <td>March 22,2024</td>\n",
       "      <td>Banglore</td>\n",
       "      <td>Chennai</td>\n",
       "      <td>Banglore</td>\n",
       "      <td>Bat</td>\n",
       "      <td>173</td>\n",
       "      <td>6</td>\n",
       "      <td>176</td>\n",
       "      <td>4</td>\n",
       "      <td>Chennai</td>\n",
       "      <td>Mustafizur Rahman</td>\n",
       "      <td>Anuj Rawat</td>\n",
       "      <td>Mustafizur Rahman</td>\n",
       "      <td>349</td>\n",
       "      <td>Banglore</td>\n",
       "      <td>Chennai</td>\n",
       "    </tr>\n",
       "    <tr>\n",
       "      <th>1</th>\n",
       "      <td>2</td>\n",
       "      <td>March 23,2024</td>\n",
       "      <td>Delhi</td>\n",
       "      <td>Punjab</td>\n",
       "      <td>Punjab</td>\n",
       "      <td>Field</td>\n",
       "      <td>174</td>\n",
       "      <td>9</td>\n",
       "      <td>177</td>\n",
       "      <td>6</td>\n",
       "      <td>Punjab</td>\n",
       "      <td>Sam Curran</td>\n",
       "      <td>Sam Curran</td>\n",
       "      <td>Kuldeep Yadav</td>\n",
       "      <td>351</td>\n",
       "      <td>Delhi</td>\n",
       "      <td>Punjab</td>\n",
       "    </tr>\n",
       "    <tr>\n",
       "      <th>2</th>\n",
       "      <td>3</td>\n",
       "      <td>March 23,2024</td>\n",
       "      <td>Kolkata</td>\n",
       "      <td>Hyderabad</td>\n",
       "      <td>Hyderabad</td>\n",
       "      <td>Field</td>\n",
       "      <td>208</td>\n",
       "      <td>7</td>\n",
       "      <td>204</td>\n",
       "      <td>7</td>\n",
       "      <td>Kolkata</td>\n",
       "      <td>Andre Russell</td>\n",
       "      <td>Andre Russell</td>\n",
       "      <td>T Natarajan</td>\n",
       "      <td>412</td>\n",
       "      <td>Kolkata</td>\n",
       "      <td>Hyderabad</td>\n",
       "    </tr>\n",
       "    <tr>\n",
       "      <th>3</th>\n",
       "      <td>4</td>\n",
       "      <td>March 24,2024</td>\n",
       "      <td>Rajasthan</td>\n",
       "      <td>Lucknow</td>\n",
       "      <td>Rajasthan</td>\n",
       "      <td>Bat</td>\n",
       "      <td>193</td>\n",
       "      <td>4</td>\n",
       "      <td>173</td>\n",
       "      <td>6</td>\n",
       "      <td>Rajasthan</td>\n",
       "      <td>Sanju Samson</td>\n",
       "      <td>Sanju Samson</td>\n",
       "      <td>Trent Boult</td>\n",
       "      <td>366</td>\n",
       "      <td>Rajasthan</td>\n",
       "      <td>Lucknow</td>\n",
       "    </tr>\n",
       "    <tr>\n",
       "      <th>4</th>\n",
       "      <td>5</td>\n",
       "      <td>March 24,2024</td>\n",
       "      <td>Gujarat</td>\n",
       "      <td>Mumbai</td>\n",
       "      <td>Mumbai</td>\n",
       "      <td>Field</td>\n",
       "      <td>168</td>\n",
       "      <td>6</td>\n",
       "      <td>162</td>\n",
       "      <td>9</td>\n",
       "      <td>Gujarat</td>\n",
       "      <td>Sai Sudharsan</td>\n",
       "      <td>Dewald Brevis</td>\n",
       "      <td>Jasprit Bumrah</td>\n",
       "      <td>330</td>\n",
       "      <td>Gujarat</td>\n",
       "      <td>Mumbai</td>\n",
       "    </tr>\n",
       "    <tr>\n",
       "      <th>...</th>\n",
       "      <td>...</td>\n",
       "      <td>...</td>\n",
       "      <td>...</td>\n",
       "      <td>...</td>\n",
       "      <td>...</td>\n",
       "      <td>...</td>\n",
       "      <td>...</td>\n",
       "      <td>...</td>\n",
       "      <td>...</td>\n",
       "      <td>...</td>\n",
       "      <td>...</td>\n",
       "      <td>...</td>\n",
       "      <td>...</td>\n",
       "      <td>...</td>\n",
       "      <td>...</td>\n",
       "      <td>...</td>\n",
       "      <td>...</td>\n",
       "    </tr>\n",
       "    <tr>\n",
       "      <th>69</th>\n",
       "      <td>70</td>\n",
       "      <td>May 19,2024</td>\n",
       "      <td>Rajasthan</td>\n",
       "      <td>Kolkata</td>\n",
       "      <td>Kolkata</td>\n",
       "      <td>Field</td>\n",
       "      <td>0</td>\n",
       "      <td>0</td>\n",
       "      <td>0</td>\n",
       "      <td>0</td>\n",
       "      <td>Abandoned</td>\n",
       "      <td>Abhishek Sharma</td>\n",
       "      <td>Virat Kohli</td>\n",
       "      <td>Andre Russell</td>\n",
       "      <td>0</td>\n",
       "      <td>Rajasthan</td>\n",
       "      <td>Kolkata</td>\n",
       "    </tr>\n",
       "    <tr>\n",
       "      <th>70</th>\n",
       "      <td>71</td>\n",
       "      <td>May 21,2024</td>\n",
       "      <td>Hyderabad</td>\n",
       "      <td>Kolkata</td>\n",
       "      <td>Hyderabad</td>\n",
       "      <td>Bat</td>\n",
       "      <td>159</td>\n",
       "      <td>10</td>\n",
       "      <td>164</td>\n",
       "      <td>2</td>\n",
       "      <td>Kolkata</td>\n",
       "      <td>Mitchell Starc</td>\n",
       "      <td>Shreyas Iyer</td>\n",
       "      <td>Mitchell Starc</td>\n",
       "      <td>323</td>\n",
       "      <td>Hyderabad</td>\n",
       "      <td>Kolkata</td>\n",
       "    </tr>\n",
       "    <tr>\n",
       "      <th>71</th>\n",
       "      <td>72</td>\n",
       "      <td>May 22,2024</td>\n",
       "      <td>Banglore</td>\n",
       "      <td>Rajasthan</td>\n",
       "      <td>Rajasthan</td>\n",
       "      <td>Field</td>\n",
       "      <td>172</td>\n",
       "      <td>8</td>\n",
       "      <td>174</td>\n",
       "      <td>6</td>\n",
       "      <td>Rajasthan</td>\n",
       "      <td>Ravichandran Ashwin</td>\n",
       "      <td>Yashasvi Jaiswal</td>\n",
       "      <td>Avesh Khan</td>\n",
       "      <td>346</td>\n",
       "      <td>Banglore</td>\n",
       "      <td>Rajasthan</td>\n",
       "    </tr>\n",
       "    <tr>\n",
       "      <th>72</th>\n",
       "      <td>73</td>\n",
       "      <td>May 24,2024</td>\n",
       "      <td>Hyderabad</td>\n",
       "      <td>Rajasthan</td>\n",
       "      <td>Rajasthan</td>\n",
       "      <td>Field</td>\n",
       "      <td>175</td>\n",
       "      <td>9</td>\n",
       "      <td>139</td>\n",
       "      <td>7</td>\n",
       "      <td>Hyderabad</td>\n",
       "      <td>Shahbaz Ahmed</td>\n",
       "      <td>Dhruv Jurel</td>\n",
       "      <td>Shahbaz Ahmed</td>\n",
       "      <td>314</td>\n",
       "      <td>Hyderabad</td>\n",
       "      <td>Rajasthan</td>\n",
       "    </tr>\n",
       "    <tr>\n",
       "      <th>73</th>\n",
       "      <td>74</td>\n",
       "      <td>May 26,2024</td>\n",
       "      <td>Hyderabad</td>\n",
       "      <td>Kolkata</td>\n",
       "      <td>Hyderabad</td>\n",
       "      <td>Bat</td>\n",
       "      <td>113</td>\n",
       "      <td>10</td>\n",
       "      <td>114</td>\n",
       "      <td>2</td>\n",
       "      <td>Kolkata</td>\n",
       "      <td>Mitchell Starc</td>\n",
       "      <td>Venkatesh Iyer</td>\n",
       "      <td>Andre Russell</td>\n",
       "      <td>227</td>\n",
       "      <td>Hyderabad</td>\n",
       "      <td>Kolkata</td>\n",
       "    </tr>\n",
       "  </tbody>\n",
       "</table>\n",
       "<p>74 rows × 17 columns</p>\n",
       "</div>"
      ],
      "text/plain": [
       "    id           date      team1      team2 toss_winner decision  first_score  \\\n",
       "0    1  March 22,2024   Banglore    Chennai    Banglore      Bat          173   \n",
       "1    2  March 23,2024      Delhi     Punjab      Punjab    Field          174   \n",
       "2    3  March 23,2024    Kolkata  Hyderabad   Hyderabad    Field          208   \n",
       "3    4  March 24,2024  Rajasthan    Lucknow   Rajasthan      Bat          193   \n",
       "4    5  March 24,2024    Gujarat     Mumbai      Mumbai    Field          168   \n",
       "..  ..            ...        ...        ...         ...      ...          ...   \n",
       "69  70    May 19,2024  Rajasthan    Kolkata     Kolkata    Field            0   \n",
       "70  71    May 21,2024  Hyderabad    Kolkata   Hyderabad      Bat          159   \n",
       "71  72    May 22,2024   Banglore  Rajasthan   Rajasthan    Field          172   \n",
       "72  73    May 24,2024  Hyderabad  Rajasthan   Rajasthan    Field          175   \n",
       "73  74    May 26,2024  Hyderabad    Kolkata   Hyderabad      Bat          113   \n",
       "\n",
       "    first_wkts  second_score  second_wkts     winner  player_of_the_match  \\\n",
       "0            6           176            4    Chennai    Mustafizur Rahman   \n",
       "1            9           177            6     Punjab           Sam Curran   \n",
       "2            7           204            7    Kolkata        Andre Russell   \n",
       "3            4           173            6  Rajasthan         Sanju Samson   \n",
       "4            6           162            9    Gujarat        Sai Sudharsan   \n",
       "..         ...           ...          ...        ...                  ...   \n",
       "69           0             0            0  Abandoned      Abhishek Sharma   \n",
       "70          10           164            2    Kolkata       Mitchell Starc   \n",
       "71           8           174            6  Rajasthan  Ravichandran Ashwin   \n",
       "72           9           139            7  Hyderabad        Shahbaz Ahmed   \n",
       "73          10           114            2    Kolkata       Mitchell Starc   \n",
       "\n",
       "           most_runs          most_wkts  total_runs batted_first batted_second  \n",
       "0         Anuj Rawat  Mustafizur Rahman         349     Banglore       Chennai  \n",
       "1         Sam Curran      Kuldeep Yadav         351        Delhi        Punjab  \n",
       "2      Andre Russell        T Natarajan         412      Kolkata     Hyderabad  \n",
       "3       Sanju Samson        Trent Boult         366    Rajasthan       Lucknow  \n",
       "4      Dewald Brevis     Jasprit Bumrah         330      Gujarat        Mumbai  \n",
       "..               ...                ...         ...          ...           ...  \n",
       "69       Virat Kohli      Andre Russell           0    Rajasthan       Kolkata  \n",
       "70      Shreyas Iyer     Mitchell Starc         323    Hyderabad       Kolkata  \n",
       "71  Yashasvi Jaiswal         Avesh Khan         346     Banglore     Rajasthan  \n",
       "72      Dhruv Jurel       Shahbaz Ahmed         314    Hyderabad     Rajasthan  \n",
       "73    Venkatesh Iyer      Andre Russell         227    Hyderabad       Kolkata  \n",
       "\n",
       "[74 rows x 17 columns]"
      ]
     },
     "execution_count": 298,
     "metadata": {},
     "output_type": "execute_result"
    }
   ],
   "source": [
    "df['batted_first'] = df.apply(lambda row: row['toss_winner'] if row['decision'] == 'Bat' else row['team2'] if row['toss_winner'] == row['team1'] else row['team1'], axis=1)\n",
    "df['batted_second'] = df.apply(lambda row: row['toss_winner'] if row['decision'] == 'Field' else row['team2'] if row['toss_winner'] == row['team1'] else row['team1'], axis=1)\n",
    "df"
   ]
  },
  {
   "cell_type": "markdown",
   "id": "a6376683-9e28-426e-aa47-c762bfe9c8b5",
   "metadata": {},
   "source": [
    "11.Find and Visualize the top teams first score with the team names\n"
   ]
  },
  {
   "cell_type": "code",
   "execution_count": 300,
   "id": "d5e5916e-c2c5-4170-9966-8c74ddfe25a7",
   "metadata": {},
   "outputs": [
    {
     "data": {
      "image/png": "[encoded data removed]",
      "text/plain": [
       "<Figure size 800x500 with 1 Axes>"
      ]
     },
     "metadata": {},
     "output_type": "display_data"
    }
   ],
   "source": [
    "top_first_score=df.nlargest(5,'first_score')\n",
    "plt.figure(figsize=(8,5))\n",
    "sns.barplot(x='batted_first',y='first_score',data=top_first_score,palette='deep')\n",
    "plt.title(\"top teams with most runs in first innings\")\n",
    "plt.xlabel(\"batted_first\")\n",
    "plt.ylabel(\"First_innings\")\n",
    "plt.show()"
   ]
  },
  {
   "cell_type": "markdown",
   "id": "a8211b94-8328-4440-9044-ab5844989f6d",
   "metadata": {},
   "source": [
    "12.Find and visualize the top teams first score with the team names\n"
   ]
  },
  {
   "cell_type": "code",
   "execution_count": 302,
   "id": "a1c37ada-775b-4cd1-afad-11aae4f6803f",
   "metadata": {},
   "outputs": [
    {
     "data": {
      "image/png": "[encoded data removed]",
      "text/plain": [
       "<Figure size 800x500 with 1 Axes>"
      ]
     },
     "metadata": {},
     "output_type": "display_data"
    }
   ],
   "source": [
    "top_first_score=df.nlargest(5,'second_score')\n",
    "plt.figure(figsize=(8,5))\n",
    "sns.barplot(x='batted_second',y='second_score',data=top_first_score)\n",
    "plt.title(\"top teams with most runs in first innings\")\n",
    "plt.xlabel(\"teams\")\n",
    "plt.ylabel(\"First_innings\")\n",
    "plt.show()"
   ]
  },
  {
   "cell_type": "markdown",
   "id": "65b1db10-2e9c-4f09-aff2-8b5578912b18",
   "metadata": {},
   "source": [
    "13. Find out the winners team who batted first"
   ]
  },
  {
   "cell_type": "code",
   "execution_count": 304,
   "id": "443246e1-9e1d-4b2a-9586-77af023e06ec",
   "metadata": {},
   "outputs": [
    {
     "name": "stdout",
     "output_type": "stream",
     "text": [
      "winner\n",
      "Kolkata      6\n",
      "Hyderabad    6\n",
      "Delhi        5\n",
      "Chennai      4\n",
      "Lucknow      4\n",
      "Banglore     4\n",
      "Rajasthan    2\n",
      "Gujarat      2\n",
      "Mumbai       2\n",
      "Name: count, dtype: int64\n"
     ]
    },
    {
     "data": {
      "image/png": "[encoded data removed]",
      "text/plain": [
       "<Figure size 640x480 with 1 Axes>"
      ]
     },
     "metadata": {},
     "output_type": "display_data"
    }
   ],
   "source": [
    "win=df[df['winner']==df['batted_first']]['winner'].value_counts()\n",
    "print(win)\n",
    "plt.plot(win,marker='o')\n",
    "plt.xticks(rotation=90)\n",
    "plt.title(\"Winners teams who batted first\")\n",
    "plt.grid(True)"
   ]
  },
  {
   "cell_type": "markdown",
   "id": "1d4aee54-095c-4bfc-adf7-1e4ea0191f5f",
   "metadata": {},
   "source": [
    "14. Find out the winners team who batted second"
   ]
  },
  {
   "cell_type": "code",
   "execution_count": 306,
   "id": "d444a913-528d-4fac-89dd-8585112f5896",
   "metadata": {},
   "outputs": [
    {
     "name": "stdout",
     "output_type": "stream",
     "text": [
      "winner\n",
      "Rajasthan    7\n",
      "Punjab       5\n",
      "Kolkata      5\n",
      "Chennai      3\n",
      "Banglore     3\n",
      "Gujarat      3\n",
      "Hyderabad    3\n",
      "Lucknow      3\n",
      "Mumbai       2\n",
      "Delhi        2\n",
      "Name: count, dtype: int64\n"
     ]
    },
    {
     "data": {
      "image/png": "[encoded data removed]",
      "text/plain": [
       "<Figure size 800x500 with 1 Axes>"
      ]
     },
     "metadata": {},
     "output_type": "display_data"
    }
   ],
   "source": [
    "win2=df[df['winner']==df['batted_second']]['winner'].value_counts()\n",
    "print(win2)\n",
    "plt.figure(figsize=(8,5))\n",
    "plt.plot(win2,marker='o')\n",
    "plt.xticks(rotation=90)\n",
    "plt.title(\"Winners teams who batted Second\")\n",
    "plt.grid(True)"
   ]
  },
  {
   "cell_type": "markdown",
   "id": "6741f169-04ff-4614-8128-f8e8d0fb76c2",
   "metadata": {},
   "source": [
    "15. Find out the correaltion by using scatter plot of first wickets and second wickets"
   ]
  },
  {
   "cell_type": "code",
   "execution_count": 308,
   "id": "f7884fe4-9b33-49e7-a286-980d66ecb306",
   "metadata": {},
   "outputs": [
    {
     "data": {
      "image/png": "[encoded data removed]",
      "text/plain": [
       "<Figure size 800x500 with 1 Axes>"
      ]
     },
     "metadata": {},
     "output_type": "display_data"
    }
   ],
   "source": [
    "data=df[['first_wkts','second_wkts']]\n",
    "plt.figure(figsize=(8,5))\n",
    "plt.scatter(x=data['first_wkts'], y=data['second_wkts'], color='blue', alpha=0.5)\n",
    "plt.title('Scatter Plot of First Wickets vs Second Wickets')\n",
    "plt.xlabel('First Wickets')\n",
    "plt.ylabel('Second Wickets')\n",
    "plt.grid(True)\n",
    "plt.show()"
   ]
  },
  {
   "cell_type": "markdown",
   "id": "6206aaa8-5f65-46c7-809a-ab21dfb9bd18",
   "metadata": {},
   "source": [
    "16. Heatmap for finding the correlation between first wickets and second wickets"
   ]
  },
  {
   "cell_type": "code",
   "execution_count": 310,
   "id": "f1b03a88-62b9-4c14-b7aa-ab2987cbadd0",
   "metadata": {},
   "outputs": [
    {
     "data": {
      "image/png": "[encoded data removed]",
      "text/plain": [
       "<Figure size 800x500 with 2 Axes>"
      ]
     },
     "metadata": {},
     "output_type": "display_data"
    }
   ],
   "source": [
    "cor=data.corr()\n",
    "plt.figure(figsize=(8,5))\n",
    "sns.heatmap(cor, annot=True, cmap='coolwarm', vmin=-1, vmax=1)\n",
    "plt.title('Heatmap of Correlation between First Wickets and Second Wickets')\n",
    "plt.show()"
   ]
  },
  {
   "cell_type": "markdown",
   "id": "752b3e2d-d089-4163-adf0-a5cdd0c09d7c",
   "metadata": {},
   "source": [
    "17. Find out the matches won by each team "
   ]
  },
  {
   "cell_type": "code",
   "execution_count": 312,
   "id": "83f581bd-ef2d-49c5-a0f5-35594f44f0d4",
   "metadata": {},
   "outputs": [
    {
     "data": {
      "image/png": "[encoded data removed]",
      "text/plain": [
       "<Figure size 800x500 with 1 Axes>"
      ]
     },
     "metadata": {},
     "output_type": "display_data"
    }
   ],
   "source": [
    "team_wins = df['winner'].value_counts()\n",
    "plt.figure(figsize=(8,5))\n",
    "team_wins.plot(kind='bar', color='green')\n",
    "plt.title('Number of Matches Won by Each Team')\n",
    "plt.xlabel('Teams')\n",
    "plt.ylabel('Number of Wins')\n",
    "plt.show()"
   ]
  },
  {
   "cell_type": "markdown",
   "id": "4d431da1-69df-40d8-8c26-773186bdb924",
   "metadata": {},
   "source": [
    "18. Visualize the wins based on the toss decision"
   ]
  },
  {
   "cell_type": "code",
   "execution_count": 314,
   "id": "a3f0b78f-a083-4159-8edc-a37858bc33f2",
   "metadata": {},
   "outputs": [
    {
     "name": "stdout",
     "output_type": "stream",
     "text": [
      "decision\n",
      "Field    55\n",
      "Bat      19\n",
      "Name: count, dtype: int64\n"
     ]
    },
    {
     "data": {
      "text/plain": [
       "Text(0, 0.5, 'Number of Wins')"
      ]
     },
     "execution_count": 314,
     "metadata": {},
     "output_type": "execute_result"
    },
    {
     "data": {
      "image/png": "[encoded data removed]",
      "text/plain": [
       "<Figure size 640x480 with 1 Axes>"
      ]
     },
     "metadata": {},
     "output_type": "display_data"
    }
   ],
   "source": [
    "toss_decision_wins = df[df['winner'] == df['toss_winner']]['decision'].value_counts()\n",
    "overall_toss_decision_counts = df['decision'].value_counts()\n",
    "print(overall_toss_decision_counts)\n",
    "toss_decision_wins.plot(kind='bar', color=['red', 'black'])\n",
    "plt.title('Number of Wins Based on Toss Decision')\n",
    "plt.xlabel('Toss Decision')\n",
    "plt.ylabel('Number of Wins')"
   ]
  },
  {
   "cell_type": "markdown",
   "id": "30f890fa-9e63-49f9-a076-97df22354e38",
   "metadata": {},
   "source": [
    "19. Visualize the most runs groupby the winners"
   ]
  },
  {
   "cell_type": "code",
   "execution_count": 316,
   "id": "cd65a401-1988-4454-b4ef-b1325daff8f7",
   "metadata": {},
   "outputs": [
    {
     "data": {
      "image/png": "[encoded data removed]",
      "text/plain": [
       "<Figure size 640x480 with 1 Axes>"
      ]
     },
     "metadata": {},
     "output_type": "display_data"
    }
   ],
   "source": [
    "occ=df.groupby('winner')['most_runs'].size()\n",
    "occ.plot(kind='barh',edgecolor='black',color='orange')\n",
    "plt.xlabel(\"count of most runs\")\n",
    "plt.ylabel(\"winners teams\")\n",
    "plt.title(\"count of most runs groupby winners\")\n",
    "plt.show()"
   ]
  },
  {
   "cell_type": "code",
   "execution_count": 318,
   "id": "32192b70-4fe9-49ab-a2eb-ae7555bf352e",
   "metadata": {},
   "outputs": [
    {
     "data": {
      "text/plain": [
       "winner\n",
       "Abandoned     3\n",
       "Banglore      7\n",
       "Chennai       7\n",
       "Delhi         7\n",
       "Gujarat       5\n",
       "Hyderabad     9\n",
       "Kolkata      11\n",
       "Lucknow       7\n",
       "Mumbai        4\n",
       "Punjab        5\n",
       "Rajasthan     9\n",
       "Name: player_of_the_match, dtype: int64"
      ]
     },
     "execution_count": 318,
     "metadata": {},
     "output_type": "execute_result"
    }
   ],
   "source": [
    "df.groupby('winner')['player_of_the_match'].size()\n"
   ]
  },
  {
   "cell_type": "code",
   "execution_count": 320,
   "id": "cc3a763f-e3f7-4599-9538-e498a543074f",
   "metadata": {},
   "outputs": [
    {
     "data": {
      "text/plain": [
       "player_of_the_match\n",
       "Abhishek Sharma        6\n",
       "Travis Head            3\n",
       "Sunil Narine           3\n",
       "Jos Buttler            2\n",
       "Rishabh Pant           2\n",
       "Sam Curran             2\n",
       "Varun Chakravarthy     2\n",
       "Kuldeep Yadav          2\n",
       "Jasprit Bumrah         2\n",
       "Ravindra Jadeja        2\n",
       "Marcus Stoinis         2\n",
       "Mitchell Starc         2\n",
       "Virat Kohli            2\n",
       "Mayank Yadav           2\n",
       "Andre Russell          2\n",
       "Sanju Samson           2\n",
       "Jake Fraser-McGurk     1\n",
       "Will Jacks             1\n",
       "Ruturaj Gaikwad        1\n",
       "Ravichandran Ashwin    1\n",
       "Harpreet Brar          1\n",
       "Bhuvneshwar Kumar      1\n",
       "Nicholas Pooran        1\n",
       "Ishant Sharma          1\n",
       "Venkatesh Iyer         1\n",
       "Mohammed Siraj         1\n",
       "Faf du Plessis         1\n",
       "Suryakumar Yadav       1\n",
       "Jonny Bairstow         1\n",
       "Simarjeet Singh        1\n",
       "Cameron Green          1\n",
       "Shubman Gill           1\n",
       "Mustafizur Rahman      1\n",
       "Rajat Patidar          1\n",
       "Romario Shepherd       1\n",
       "Sai Sudharsan          1\n",
       "Shivam Dube            1\n",
       "Riyan Parag            1\n",
       "Mohit Sharma           1\n",
       "Khaleel Ahmed          1\n",
       "Trent Boult            1\n",
       "Shashank Singh         1\n",
       "Yash Thakur            1\n",
       "Sandeep Sharma         1\n",
       "Nitish Kumar Reddy     1\n",
       "Rashid Khan            1\n",
       "Shimron Hetmyer        1\n",
       "Phil Salt              1\n",
       "Matheesha Pathirana    1\n",
       "KL Rahul               1\n",
       "Sai Kishore            1\n",
       "Shahbaz Ahmed          1\n",
       "Name: count, dtype: int64"
      ]
     },
     "execution_count": 320,
     "metadata": {},
     "output_type": "execute_result"
    }
   ],
   "source": [
    "df['player_of_the_match'].value_counts()"
   ]
  },
  {
   "cell_type": "markdown",
   "id": "16b6869c-ebcb-468a-aec7-454eaf0d6447",
   "metadata": {},
   "source": [
    "20.Find out the correaltion between the First_score and second score by heat map"
   ]
  },
  {
   "cell_type": "code",
   "execution_count": 48,
   "id": "48918766-1d09-4310-9977-403f0aeaca6e",
   "metadata": {},
   "outputs": [
    {
     "name": "stdout",
     "output_type": "stream",
     "text": [
      "              first_score  second_score\n",
      "first_score      1.000000      0.863921\n",
      "second_score     0.863921      1.000000\n"
     ]
    },
    {
     "data": {
      "text/plain": [
       "<Axes: >"
      ]
     },
     "execution_count": 48,
     "metadata": {},
     "output_type": "execute_result"
    },
    {
     "data": {
      "image/png": "[encoded data removed]",
      "text/plain": [
       "<Figure size 640x480 with 2 Axes>"
      ]
     },
     "metadata": {},
     "output_type": "display_data"
    }
   ],
   "source": [
    "data1=df[['first_score','second_score']]\n",
    "corr=data1.corr()\n",
    "print(corr)\n",
    "sns.heatmap(corr,annot=True,cmap='viridis')"
   ]
  },
  {
   "cell_type": "code",
   "execution_count": null,
   "id": "a29b6ad7-5c11-46dd-84da-d2c64ffb4a20",
   "metadata": {},
   "outputs": [],
   "source": []
  }
 ],
 "metadata": {
  "kernelspec": {
   "display_name": "Python 3 (ipykernel)",
   "language": "python",
   "name": "python3"
  },
  "language_info": {
   "codemirror_mode": {
    "name": "ipython",
    "version": 3
   },
   "file_extension": ".py",
   "mimetype": "text/x-python",
   "name": "python",
   "nbconvert_exporter": "python",
   "pygments_lexer": "ipython3",
   "version": "3.11.7"
  }
 },
 "nbformat": 4,
 "nbformat_minor": 5
}
